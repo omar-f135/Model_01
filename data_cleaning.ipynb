{
 "metadata": {
  "language_info": {
   "codemirror_mode": {
    "name": "ipython",
    "version": 3
   },
   "file_extension": ".py",
   "mimetype": "text/x-python",
   "name": "python",
   "nbconvert_exporter": "python",
   "pygments_lexer": "ipython3",
   "version": "3.7.4-final"
  },
  "orig_nbformat": 2,
  "kernelspec": {
   "name": "python374jvsc74a57bd0f99de020b342f6398c2daa900581ba139c9d64acb9dee4fdd8018694687cc700",
   "display_name": "Python 3.7.4 64-bit (conda)"
  }
 },
 "nbformat": 4,
 "nbformat_minor": 2,
 "cells": [
  {
   "source": [
    "### Import necessary Libraries\n"
   ],
   "cell_type": "markdown",
   "metadata": {}
  },
  {
   "cell_type": "code",
   "execution_count": 36,
   "metadata": {},
   "outputs": [],
   "source": [
    "# Importing Libraries\n",
    "import pandas as pd\n",
    "import numpy as np\n",
    "import re\n",
    "import string"
   ]
  },
  {
   "source": [
    "### Load the dataset (\"Customer_reviews.xlsx\")\n"
   ],
   "cell_type": "markdown",
   "metadata": {}
  },
  {
   "cell_type": "code",
   "execution_count": 37,
   "metadata": {},
   "outputs": [
    {
     "output_type": "stream",
     "name": "stdout",
     "text": [
      "(100000, 7)\n"
     ]
    },
    {
     "output_type": "execute_result",
     "data": {
      "text/plain": [
       "                          review_id                          order_id  \\\n",
       "0  7bc2406110b926393aa56f80a40eba40  73fc7af87114b39712e6da79b0a377eb   \n",
       "1  80e641a11e56f04c1ad469d5645fdfde  a548910a1c6147796b98fdf73dbeba33   \n",
       "2  228ce5500dc1d8e020d8d1322874b6f0  f9e4b658b201a9f2ecdecbb34bed034b   \n",
       "3  e64fb393e7b32834bb789ff8bb30750e  658677c97b385a9be170737859d3511b   \n",
       "4  f7c4243c7fe1938f181bec41a392bdeb  8e6bfb81e283fa7e4f11123a3fb894f1   \n",
       "\n",
       "   review_score review_comment_title  \\\n",
       "0             4                  NaN   \n",
       "1             5                  NaN   \n",
       "2             5                  NaN   \n",
       "3             5                  NaN   \n",
       "4             5                  NaN   \n",
       "\n",
       "                              review_comment_message review_creation_date  \\\n",
       "0                                                NaN           2018-01-18   \n",
       "1                                                NaN           2018-03-10   \n",
       "2                                                NaN           2018-02-17   \n",
       "3              Recebi bem antes do prazo estipulado.           2017-04-21   \n",
       "4  Parabéns lojas lannister adorei comprar pela I...           2018-03-01   \n",
       "\n",
       "  review_answer_timestamp  \n",
       "0     2018-01-18 21:46:00  \n",
       "1     2018-03-11 03:05:00  \n",
       "2     2018-02-18 14:36:00  \n",
       "3     2017-04-21 22:02:00  \n",
       "4     2018-03-02 10:26:00  "
      ],
      "text/html": "<div>\n<style scoped>\n    .dataframe tbody tr th:only-of-type {\n        vertical-align: middle;\n    }\n\n    .dataframe tbody tr th {\n        vertical-align: top;\n    }\n\n    .dataframe thead th {\n        text-align: right;\n    }\n</style>\n<table border=\"1\" class=\"dataframe\">\n  <thead>\n    <tr style=\"text-align: right;\">\n      <th></th>\n      <th>review_id</th>\n      <th>order_id</th>\n      <th>review_score</th>\n      <th>review_comment_title</th>\n      <th>review_comment_message</th>\n      <th>review_creation_date</th>\n      <th>review_answer_timestamp</th>\n    </tr>\n  </thead>\n  <tbody>\n    <tr>\n      <th>0</th>\n      <td>7bc2406110b926393aa56f80a40eba40</td>\n      <td>73fc7af87114b39712e6da79b0a377eb</td>\n      <td>4</td>\n      <td>NaN</td>\n      <td>NaN</td>\n      <td>2018-01-18</td>\n      <td>2018-01-18 21:46:00</td>\n    </tr>\n    <tr>\n      <th>1</th>\n      <td>80e641a11e56f04c1ad469d5645fdfde</td>\n      <td>a548910a1c6147796b98fdf73dbeba33</td>\n      <td>5</td>\n      <td>NaN</td>\n      <td>NaN</td>\n      <td>2018-03-10</td>\n      <td>2018-03-11 03:05:00</td>\n    </tr>\n    <tr>\n      <th>2</th>\n      <td>228ce5500dc1d8e020d8d1322874b6f0</td>\n      <td>f9e4b658b201a9f2ecdecbb34bed034b</td>\n      <td>5</td>\n      <td>NaN</td>\n      <td>NaN</td>\n      <td>2018-02-17</td>\n      <td>2018-02-18 14:36:00</td>\n    </tr>\n    <tr>\n      <th>3</th>\n      <td>e64fb393e7b32834bb789ff8bb30750e</td>\n      <td>658677c97b385a9be170737859d3511b</td>\n      <td>5</td>\n      <td>NaN</td>\n      <td>Recebi bem antes do prazo estipulado.</td>\n      <td>2017-04-21</td>\n      <td>2017-04-21 22:02:00</td>\n    </tr>\n    <tr>\n      <th>4</th>\n      <td>f7c4243c7fe1938f181bec41a392bdeb</td>\n      <td>8e6bfb81e283fa7e4f11123a3fb894f1</td>\n      <td>5</td>\n      <td>NaN</td>\n      <td>Parabéns lojas lannister adorei comprar pela I...</td>\n      <td>2018-03-01</td>\n      <td>2018-03-02 10:26:00</td>\n    </tr>\n  </tbody>\n</table>\n</div>"
     },
     "metadata": {},
     "execution_count": 37
    }
   ],
   "source": [
    "df1 = pd.read_excel(\"Customer_reviews.xlsx\")\n",
    "print(df1.shape)\n",
    "df1.head()"
   ]
  },
  {
   "cell_type": "code",
   "execution_count": 38,
   "metadata": {},
   "outputs": [],
   "source": [
    "# In sentiment analysis we don't need review_id, order_id, review_creation_date, review_answer_timestamp..so we have to drop those columns. for further queries, we keep order_id columns in our dataframe\n",
    "\n",
    "df1.drop([\"review_creation_date\", \"review_answer_timestamp\", \"review_id\"],axis=1,inplace=True)"
   ]
  },
  {
   "cell_type": "code",
   "execution_count": 39,
   "metadata": {},
   "outputs": [
    {
     "output_type": "execute_result",
     "data": {
      "text/plain": [
       "                           order_id  review_score review_comment_title  \\\n",
       "0  73fc7af87114b39712e6da79b0a377eb             4                  NaN   \n",
       "1  a548910a1c6147796b98fdf73dbeba33             5                  NaN   \n",
       "2  f9e4b658b201a9f2ecdecbb34bed034b             5                  NaN   \n",
       "3  658677c97b385a9be170737859d3511b             5                  NaN   \n",
       "4  8e6bfb81e283fa7e4f11123a3fb894f1             5                  NaN   \n",
       "\n",
       "                              review_comment_message  \n",
       "0                                                NaN  \n",
       "1                                                NaN  \n",
       "2                                                NaN  \n",
       "3              Recebi bem antes do prazo estipulado.  \n",
       "4  Parabéns lojas lannister adorei comprar pela I...  "
      ],
      "text/html": "<div>\n<style scoped>\n    .dataframe tbody tr th:only-of-type {\n        vertical-align: middle;\n    }\n\n    .dataframe tbody tr th {\n        vertical-align: top;\n    }\n\n    .dataframe thead th {\n        text-align: right;\n    }\n</style>\n<table border=\"1\" class=\"dataframe\">\n  <thead>\n    <tr style=\"text-align: right;\">\n      <th></th>\n      <th>order_id</th>\n      <th>review_score</th>\n      <th>review_comment_title</th>\n      <th>review_comment_message</th>\n    </tr>\n  </thead>\n  <tbody>\n    <tr>\n      <th>0</th>\n      <td>73fc7af87114b39712e6da79b0a377eb</td>\n      <td>4</td>\n      <td>NaN</td>\n      <td>NaN</td>\n    </tr>\n    <tr>\n      <th>1</th>\n      <td>a548910a1c6147796b98fdf73dbeba33</td>\n      <td>5</td>\n      <td>NaN</td>\n      <td>NaN</td>\n    </tr>\n    <tr>\n      <th>2</th>\n      <td>f9e4b658b201a9f2ecdecbb34bed034b</td>\n      <td>5</td>\n      <td>NaN</td>\n      <td>NaN</td>\n    </tr>\n    <tr>\n      <th>3</th>\n      <td>658677c97b385a9be170737859d3511b</td>\n      <td>5</td>\n      <td>NaN</td>\n      <td>Recebi bem antes do prazo estipulado.</td>\n    </tr>\n    <tr>\n      <th>4</th>\n      <td>8e6bfb81e283fa7e4f11123a3fb894f1</td>\n      <td>5</td>\n      <td>NaN</td>\n      <td>Parabéns lojas lannister adorei comprar pela I...</td>\n    </tr>\n  </tbody>\n</table>\n</div>"
     },
     "metadata": {},
     "execution_count": 39
    }
   ],
   "source": [
    "df1.head()"
   ]
  },
  {
   "source": [
    "### There are some rows those may have only review_comment_title values instead of review_comment_message values. So we have to take review_comment_title values as Reviews in those columns.\n",
    "### So we have to concat review_comment_title and review_comment_message column in one column \n",
    "### To do this, we have to handle NaN values first\n",
    "\n"
   ],
   "cell_type": "markdown",
   "metadata": {}
  },
  {
   "cell_type": "code",
   "execution_count": 40,
   "metadata": {},
   "outputs": [],
   "source": [
    "# we can not join null values and string, So converting null values into \" \" for solving concatenating problem of  \"review_comment_title\" and \"review_comment_message\" columns\n",
    "\n",
    "df1.fillna('', inplace = True)"
   ]
  },
  {
   "cell_type": "code",
   "execution_count": 41,
   "metadata": {},
   "outputs": [],
   "source": [
    "# converting review_comment_title and review_comment_message data into string\n",
    "\n",
    "df1['review_comment_message'] = df1['review_comment_message'].apply(str)\n",
    "df1['review_comment_title'] = df1['review_comment_title'].apply(str)"
   ]
  },
  {
   "cell_type": "code",
   "execution_count": 42,
   "metadata": {},
   "outputs": [],
   "source": [
    "# Joining review_comment_title and review_comment_message columns and create a new reviews column\n",
    "\n",
    "df1['reviews'] = df1['review_comment_title'] + ' ' + df1['review_comment_message']"
   ]
  },
  {
   "cell_type": "code",
   "execution_count": 43,
   "metadata": {},
   "outputs": [
    {
     "output_type": "execute_result",
     "data": {
      "text/plain": [
       "                               order_id  review_score review_comment_title  \\\n",
       "48653  e104196e46cab854b8dc6f0beaa84d13             5                        \n",
       "77040  f825879441f1f289d12c308982d24315             5                        \n",
       "12245  464bdc55a2b4838f5d83f20f181ff858             5                        \n",
       "80418  926e667aed4b5a389872a0777bceb8c5             5                        \n",
       "64492  e0f06a57d717562c49f91cd309be4598             5                        \n",
       "\n",
       "             review_comment_message                        reviews  \n",
       "48653                                                               \n",
       "77040                                                               \n",
       "12245  Produto chegou corretamente.   Produto chegou corretamente.  \n",
       "80418                                                               \n",
       "64492                                                               "
      ],
      "text/html": "<div>\n<style scoped>\n    .dataframe tbody tr th:only-of-type {\n        vertical-align: middle;\n    }\n\n    .dataframe tbody tr th {\n        vertical-align: top;\n    }\n\n    .dataframe thead th {\n        text-align: right;\n    }\n</style>\n<table border=\"1\" class=\"dataframe\">\n  <thead>\n    <tr style=\"text-align: right;\">\n      <th></th>\n      <th>order_id</th>\n      <th>review_score</th>\n      <th>review_comment_title</th>\n      <th>review_comment_message</th>\n      <th>reviews</th>\n    </tr>\n  </thead>\n  <tbody>\n    <tr>\n      <th>48653</th>\n      <td>e104196e46cab854b8dc6f0beaa84d13</td>\n      <td>5</td>\n      <td></td>\n      <td></td>\n      <td></td>\n    </tr>\n    <tr>\n      <th>77040</th>\n      <td>f825879441f1f289d12c308982d24315</td>\n      <td>5</td>\n      <td></td>\n      <td></td>\n      <td></td>\n    </tr>\n    <tr>\n      <th>12245</th>\n      <td>464bdc55a2b4838f5d83f20f181ff858</td>\n      <td>5</td>\n      <td></td>\n      <td>Produto chegou corretamente.</td>\n      <td>Produto chegou corretamente.</td>\n    </tr>\n    <tr>\n      <th>80418</th>\n      <td>926e667aed4b5a389872a0777bceb8c5</td>\n      <td>5</td>\n      <td></td>\n      <td></td>\n      <td></td>\n    </tr>\n    <tr>\n      <th>64492</th>\n      <td>e0f06a57d717562c49f91cd309be4598</td>\n      <td>5</td>\n      <td></td>\n      <td></td>\n      <td></td>\n    </tr>\n  </tbody>\n</table>\n</div>"
     },
     "metadata": {},
     "execution_count": 43
    }
   ],
   "source": [
    "df1.sample(5)"
   ]
  },
  {
   "cell_type": "code",
   "execution_count": 44,
   "metadata": {},
   "outputs": [],
   "source": [
    "# Now we can remove review_comment_title and review_comment_message columns\n",
    "\n",
    "df1.drop([\"review_comment_title\",\"review_comment_message\"], axis=1, inplace=True)"
   ]
  },
  {
   "source": [
    "### Since we are analysing customer satisfaction from their Revies so we can drop those Rows where reviews are not present"
   ],
   "cell_type": "markdown",
   "metadata": {}
  },
  {
   "cell_type": "code",
   "execution_count": 45,
   "metadata": {},
   "outputs": [
    {
     "output_type": "execute_result",
     "data": {
      "text/plain": [
       "                           order_id  review_score  \\\n",
       "0  73fc7af87114b39712e6da79b0a377eb             4   \n",
       "1  a548910a1c6147796b98fdf73dbeba33             5   \n",
       "2  f9e4b658b201a9f2ecdecbb34bed034b             5   \n",
       "3  658677c97b385a9be170737859d3511b             5   \n",
       "4  8e6bfb81e283fa7e4f11123a3fb894f1             5   \n",
       "\n",
       "                                             reviews  \n",
       "0                                                NaN  \n",
       "1                                                NaN  \n",
       "2                                                NaN  \n",
       "3              Recebi bem antes do prazo estipulado.  \n",
       "4   Parabéns lojas lannister adorei comprar pela ...  "
      ],
      "text/html": "<div>\n<style scoped>\n    .dataframe tbody tr th:only-of-type {\n        vertical-align: middle;\n    }\n\n    .dataframe tbody tr th {\n        vertical-align: top;\n    }\n\n    .dataframe thead th {\n        text-align: right;\n    }\n</style>\n<table border=\"1\" class=\"dataframe\">\n  <thead>\n    <tr style=\"text-align: right;\">\n      <th></th>\n      <th>order_id</th>\n      <th>review_score</th>\n      <th>reviews</th>\n    </tr>\n  </thead>\n  <tbody>\n    <tr>\n      <th>0</th>\n      <td>73fc7af87114b39712e6da79b0a377eb</td>\n      <td>4</td>\n      <td>NaN</td>\n    </tr>\n    <tr>\n      <th>1</th>\n      <td>a548910a1c6147796b98fdf73dbeba33</td>\n      <td>5</td>\n      <td>NaN</td>\n    </tr>\n    <tr>\n      <th>2</th>\n      <td>f9e4b658b201a9f2ecdecbb34bed034b</td>\n      <td>5</td>\n      <td>NaN</td>\n    </tr>\n    <tr>\n      <th>3</th>\n      <td>658677c97b385a9be170737859d3511b</td>\n      <td>5</td>\n      <td>Recebi bem antes do prazo estipulado.</td>\n    </tr>\n    <tr>\n      <th>4</th>\n      <td>8e6bfb81e283fa7e4f11123a3fb894f1</td>\n      <td>5</td>\n      <td>Parabéns lojas lannister adorei comprar pela ...</td>\n    </tr>\n  </tbody>\n</table>\n</div>"
     },
     "metadata": {},
     "execution_count": 45
    }
   ],
   "source": [
    "# Replacing \" \" into null value in reviews column\n",
    " \n",
    "df2 = df1.replace(\" \", np.NaN)\n",
    "df2.head()"
   ]
  },
  {
   "cell_type": "code",
   "execution_count": 46,
   "metadata": {},
   "outputs": [],
   "source": [
    "# Removing rows where NaN values are present\n",
    "\n",
    "df2.dropna(inplace=True)"
   ]
  },
  {
   "cell_type": "code",
   "execution_count": 47,
   "metadata": {},
   "outputs": [
    {
     "output_type": "execute_result",
     "data": {
      "text/plain": [
       "                            order_id  review_score  \\\n",
       "3   658677c97b385a9be170737859d3511b             5   \n",
       "4   8e6bfb81e283fa7e4f11123a3fb894f1             5   \n",
       "9   b9bf720beb4ab3728760088589c62129             4   \n",
       "12  9d6f15f95d01e79bd1349cc208361f09             4   \n",
       "15  e51478e7e277a83743b6f9991dbfa3fb             5   \n",
       "\n",
       "                                              reviews  \n",
       "3               Recebi bem antes do prazo estipulado.  \n",
       "4    Parabéns lojas lannister adorei comprar pela ...  \n",
       "9   recomendo aparelho eficiente. no site a marca ...  \n",
       "12      Mas um pouco ,travando...pelo valor ta Boa.\\n  \n",
       "15  Super recomendo Vendedor confiável, produto ok...  "
      ],
      "text/html": "<div>\n<style scoped>\n    .dataframe tbody tr th:only-of-type {\n        vertical-align: middle;\n    }\n\n    .dataframe tbody tr th {\n        vertical-align: top;\n    }\n\n    .dataframe thead th {\n        text-align: right;\n    }\n</style>\n<table border=\"1\" class=\"dataframe\">\n  <thead>\n    <tr style=\"text-align: right;\">\n      <th></th>\n      <th>order_id</th>\n      <th>review_score</th>\n      <th>reviews</th>\n    </tr>\n  </thead>\n  <tbody>\n    <tr>\n      <th>3</th>\n      <td>658677c97b385a9be170737859d3511b</td>\n      <td>5</td>\n      <td>Recebi bem antes do prazo estipulado.</td>\n    </tr>\n    <tr>\n      <th>4</th>\n      <td>8e6bfb81e283fa7e4f11123a3fb894f1</td>\n      <td>5</td>\n      <td>Parabéns lojas lannister adorei comprar pela ...</td>\n    </tr>\n    <tr>\n      <th>9</th>\n      <td>b9bf720beb4ab3728760088589c62129</td>\n      <td>4</td>\n      <td>recomendo aparelho eficiente. no site a marca ...</td>\n    </tr>\n    <tr>\n      <th>12</th>\n      <td>9d6f15f95d01e79bd1349cc208361f09</td>\n      <td>4</td>\n      <td>Mas um pouco ,travando...pelo valor ta Boa.\\n</td>\n    </tr>\n    <tr>\n      <th>15</th>\n      <td>e51478e7e277a83743b6f9991dbfa3fb</td>\n      <td>5</td>\n      <td>Super recomendo Vendedor confiável, produto ok...</td>\n    </tr>\n  </tbody>\n</table>\n</div>"
     },
     "metadata": {},
     "execution_count": 47
    }
   ],
   "source": [
    "df2.head()"
   ]
  },
  {
   "source": [
    "### Removing Duplicate values"
   ],
   "cell_type": "markdown",
   "metadata": {}
  },
  {
   "cell_type": "code",
   "execution_count": 48,
   "metadata": {},
   "outputs": [
    {
     "output_type": "stream",
     "name": "stdout",
     "text": [
      "duplicate_order_id_count 153 \nduplicate_review_count 4809\n"
     ]
    }
   ],
   "source": [
    "# checking duplicated Data according to columns\n",
    "\n",
    "count1= sum(df2.duplicated(\"order_id\"))\n",
    "count2 = sum(df2.duplicated(\"reviews\"))\n",
    "print(\"duplicate_order_id_count {} \\nduplicate_review_count {}\".format(count1,count2))"
   ]
  },
  {
   "cell_type": "code",
   "execution_count": 49,
   "metadata": {},
   "outputs": [
    {
     "output_type": "stream",
     "name": "stderr",
     "text": [
      "ipykernel_launcher:3: UserWarning: Boolean Series key will be reindexed to match DataFrame index.\nipykernel_launcher:4: UserWarning: Boolean Series key will be reindexed to match DataFrame index.\n"
     ]
    }
   ],
   "source": [
    "# remove duplicate value from each column\n",
    "df3 = df2.copy()\n",
    "df4 = df3[~(df1.duplicated(\"order_id\"))] # removing duplicate value from  order_id column\n",
    "df5 = df4[~(df1.duplicated(\"reviews\"))] # removing duplicate value from  review column"
   ]
  },
  {
   "cell_type": "code",
   "execution_count": 50,
   "metadata": {},
   "outputs": [
    {
     "output_type": "stream",
     "name": "stdout",
     "text": [
      "(38573, 3)\nDuplicated value count in dataset 0\n"
     ]
    }
   ],
   "source": [
    "print(df5.shape)\n",
    "print(\"Duplicated value count in dataset {}\".format(sum(df5.duplicated())))"
   ]
  },
  {
   "source": [
    "### Apply First level Reviews text cleaning"
   ],
   "cell_type": "markdown",
   "metadata": {}
  },
  {
   "cell_type": "code",
   "execution_count": 51,
   "metadata": {},
   "outputs": [],
   "source": [
    "# Removing emotion icons, symbols & pictographs, transport & map symbols, flags (iOS) etc.\n",
    "\n",
    "def text_cleaner1(text):\n",
    "    \n",
    "    emoji_pattern = re.compile(\"[\"\n",
    "        u\"\\U0001F600-\\U0001F64F\"  # emotion icons\n",
    "        u\"\\U0001F300-\\U0001F5FF\"  # symbols & pictographs\n",
    "        u\"\\U0001F680-\\U0001F6FF\"  # transport & map symbols\n",
    "        u\"\\U0001F1E0-\\U0001F1FF\"  # flags (iOS)\n",
    "        u\"\\U00002702-\\U000027B0\"\n",
    "        u\"\\U000024C2-\\U0001F251\"\n",
    "        u\"\\U00010000-\\U0010ffff\"\n",
    "                              \"]+\", flags=re.UNICODE)\n",
    "    \n",
    "    return(emoji_pattern.sub(r'', text))"
   ]
  },
  {
   "cell_type": "code",
   "execution_count": 52,
   "metadata": {},
   "outputs": [],
   "source": [
    "df6 = df5.copy()"
   ]
  },
  {
   "cell_type": "code",
   "execution_count": 53,
   "metadata": {},
   "outputs": [],
   "source": [
    "df6['reviews'] = df6['reviews'].apply(lambda x:text_cleaner1(x))"
   ]
  },
  {
   "source": [
    "### Apply Secound level Reviews text cleaning"
   ],
   "cell_type": "markdown",
   "metadata": {}
  },
  {
   "cell_type": "code",
   "execution_count": 54,
   "metadata": {},
   "outputs": [],
   "source": [
    "#This function converts to lower-case, removes square bracket, removes numbers and punctuations\n",
    "\n",
    "def text_cleaner2(text):\n",
    "    text = text.lower()\n",
    "    text = re.sub('\\[.*?\\]', '', text)\n",
    "    text = re.sub('[%s]' % re.escape(string.punctuation), '', text)\n",
    "    text = re.sub('\\w*\\d\\w*', '', text)\n",
    "    return text\n",
    "\n",
    "cleaner = lambda x: text_cleaner2(x)"
   ]
  },
  {
   "cell_type": "code",
   "execution_count": 55,
   "metadata": {},
   "outputs": [],
   "source": [
    "df6['reviews'] = df6['reviews'].apply(cleaner)"
   ]
  },
  {
   "cell_type": "code",
   "execution_count": 56,
   "metadata": {},
   "outputs": [
    {
     "output_type": "execute_result",
     "data": {
      "text/plain": [
       "                               order_id  review_score  \\\n",
       "14972  87f83d5d5bb0b9a13ec25c61c4a71361             3   \n",
       "48725  6438d704a058758bff33c039c32f655f             3   \n",
       "57156  9c43b12ecec2272d35dcbec5a8b833e1             4   \n",
       "32607  16a182d2e328e5f0b3252d367e17bc14             5   \n",
       "82354  21e751f0d78afdfe36cb0e8fe45360d8             5   \n",
       "14881  5c2c3051e99aa85bb1f2260f51e59f49             2   \n",
       "93081  32fc3f3218889905a42a419486582f90             4   \n",
       "\n",
       "                                                 reviews  \n",
       "14972                                           obrigado  \n",
       "48725   até hoje não recebi o produto por isso não po...  \n",
       "57156                 processo de entrega muito demorado  \n",
       "32607  satisfeito exatamente como no anúncio \\nentreg...  \n",
       "82354           claro é super confiável esta de parabéns  \n",
       "14881  pedido com  toalhas  não recebi ainda esse pedido  \n",
       "93081  ótimo produto funciona muito bem não tive nenh...  "
      ],
      "text/html": "<div>\n<style scoped>\n    .dataframe tbody tr th:only-of-type {\n        vertical-align: middle;\n    }\n\n    .dataframe tbody tr th {\n        vertical-align: top;\n    }\n\n    .dataframe thead th {\n        text-align: right;\n    }\n</style>\n<table border=\"1\" class=\"dataframe\">\n  <thead>\n    <tr style=\"text-align: right;\">\n      <th></th>\n      <th>order_id</th>\n      <th>review_score</th>\n      <th>reviews</th>\n    </tr>\n  </thead>\n  <tbody>\n    <tr>\n      <th>14972</th>\n      <td>87f83d5d5bb0b9a13ec25c61c4a71361</td>\n      <td>3</td>\n      <td>obrigado</td>\n    </tr>\n    <tr>\n      <th>48725</th>\n      <td>6438d704a058758bff33c039c32f655f</td>\n      <td>3</td>\n      <td>até hoje não recebi o produto por isso não po...</td>\n    </tr>\n    <tr>\n      <th>57156</th>\n      <td>9c43b12ecec2272d35dcbec5a8b833e1</td>\n      <td>4</td>\n      <td>processo de entrega muito demorado</td>\n    </tr>\n    <tr>\n      <th>32607</th>\n      <td>16a182d2e328e5f0b3252d367e17bc14</td>\n      <td>5</td>\n      <td>satisfeito exatamente como no anúncio \\nentreg...</td>\n    </tr>\n    <tr>\n      <th>82354</th>\n      <td>21e751f0d78afdfe36cb0e8fe45360d8</td>\n      <td>5</td>\n      <td>claro é super confiável esta de parabéns</td>\n    </tr>\n    <tr>\n      <th>14881</th>\n      <td>5c2c3051e99aa85bb1f2260f51e59f49</td>\n      <td>2</td>\n      <td>pedido com  toalhas  não recebi ainda esse pedido</td>\n    </tr>\n    <tr>\n      <th>93081</th>\n      <td>32fc3f3218889905a42a419486582f90</td>\n      <td>4</td>\n      <td>ótimo produto funciona muito bem não tive nenh...</td>\n    </tr>\n  </tbody>\n</table>\n</div>"
     },
     "metadata": {},
     "execution_count": 56
    }
   ],
   "source": [
    "df6.sample(7)"
   ]
  },
  {
   "source": [
    "## save df6 as cleaned_reviews_data dataset"
   ],
   "cell_type": "markdown",
   "metadata": {}
  },
  {
   "cell_type": "code",
   "execution_count": 57,
   "metadata": {},
   "outputs": [],
   "source": [
    "df6.to_excel(\"cleaned_reviews_data.xlsx\", index=False)"
   ]
  }
 ]
}