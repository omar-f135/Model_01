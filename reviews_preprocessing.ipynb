{
 "metadata": {
  "language_info": {
   "codemirror_mode": {
    "name": "ipython",
    "version": 3
   },
   "file_extension": ".py",
   "mimetype": "text/x-python",
   "name": "python",
   "nbconvert_exporter": "python",
   "pygments_lexer": "ipython3",
   "version": "3.7.4-final"
  },
  "orig_nbformat": 2,
  "kernelspec": {
   "name": "python374jvsc74a57bd0f99de020b342f6398c2daa900581ba139c9d64acb9dee4fdd8018694687cc700",
   "display_name": "Python 3.7.4 64-bit (conda)"
  }
 },
 "nbformat": 4,
 "nbformat_minor": 2,
 "cells": [
  {
   "cell_type": "code",
   "execution_count": 48,
   "metadata": {},
   "outputs": [
    {
     "output_type": "stream",
     "name": "stderr",
     "text": [
      "[nltk_data] Downloading package stopwords to C:\\Users\\uf\n[nltk_data]     ruman\\AppData\\Roaming\\nltk_data...\n[nltk_data]   Package stopwords is already up-to-date!\n"
     ]
    }
   ],
   "source": [
    "# Importing Libraries\n",
    "import pandas as pd\n",
    "import re\n",
    "import nltk\n",
    "import spacy\n",
    "\n",
    "nltk.download('stopwords')\n",
    "from nltk.corpus import stopwords\n"
   ]
  },
  {
   "cell_type": "code",
   "execution_count": 49,
   "metadata": {},
   "outputs": [
    {
     "output_type": "stream",
     "name": "stdout",
     "text": [
      "✔ Download and installation successful\nYou can now load the package via spacy.load('pt_core_news_sm')\n"
     ]
    }
   ],
   "source": [
    "import spacy.cli\n",
    "spacy.cli.download(\"pt_core_news_sm\")"
   ]
  },
  {
   "cell_type": "code",
   "execution_count": 50,
   "metadata": {},
   "outputs": [],
   "source": [
    "# importing portuguese language spacy object that gives more understable/sematric information about portuguese language to our model \n",
    "\n",
    "import pt_core_news_sm\n",
    "spc_ob_pt = pt_core_news_sm.load()"
   ]
  },
  {
   "cell_type": "code",
   "execution_count": 51,
   "metadata": {},
   "outputs": [
    {
     "output_type": "execute_result",
     "data": {
      "text/plain": [
       "                           order_id  \\\n",
       "0  658677c97b385a9be170737859d3511b   \n",
       "1  8e6bfb81e283fa7e4f11123a3fb894f1   \n",
       "2  b9bf720beb4ab3728760088589c62129   \n",
       "3  9d6f15f95d01e79bd1349cc208361f09   \n",
       "4  e51478e7e277a83743b6f9991dbfa3fb   \n",
       "\n",
       "                                             reviews  label  \n",
       "0               recebi bem antes do prazo estipulado      1  \n",
       "1   parabéns lojas lannister adorei comprar pela ...      1  \n",
       "2  recomendo aparelho eficiente no site a marca d...      1  \n",
       "3           mas um pouco travandopelo valor ta boa\\n      1  \n",
       "4  super recomendo vendedor confiável produto ok ...      1  "
      ],
      "text/html": "<div>\n<style scoped>\n    .dataframe tbody tr th:only-of-type {\n        vertical-align: middle;\n    }\n\n    .dataframe tbody tr th {\n        vertical-align: top;\n    }\n\n    .dataframe thead th {\n        text-align: right;\n    }\n</style>\n<table border=\"1\" class=\"dataframe\">\n  <thead>\n    <tr style=\"text-align: right;\">\n      <th></th>\n      <th>order_id</th>\n      <th>reviews</th>\n      <th>label</th>\n    </tr>\n  </thead>\n  <tbody>\n    <tr>\n      <th>0</th>\n      <td>658677c97b385a9be170737859d3511b</td>\n      <td>recebi bem antes do prazo estipulado</td>\n      <td>1</td>\n    </tr>\n    <tr>\n      <th>1</th>\n      <td>8e6bfb81e283fa7e4f11123a3fb894f1</td>\n      <td>parabéns lojas lannister adorei comprar pela ...</td>\n      <td>1</td>\n    </tr>\n    <tr>\n      <th>2</th>\n      <td>b9bf720beb4ab3728760088589c62129</td>\n      <td>recomendo aparelho eficiente no site a marca d...</td>\n      <td>1</td>\n    </tr>\n    <tr>\n      <th>3</th>\n      <td>9d6f15f95d01e79bd1349cc208361f09</td>\n      <td>mas um pouco travandopelo valor ta boa\\n</td>\n      <td>1</td>\n    </tr>\n    <tr>\n      <th>4</th>\n      <td>e51478e7e277a83743b6f9991dbfa3fb</td>\n      <td>super recomendo vendedor confiável produto ok ...</td>\n      <td>1</td>\n    </tr>\n  </tbody>\n</table>\n</div>"
     },
     "metadata": {},
     "execution_count": 51
    }
   ],
   "source": [
    "# Load the labeled dataset \n",
    "df1 = pd.read_excel(\"review_with_labelled.xlsx\")\n",
    "df1.head()"
   ]
  },
  {
   "cell_type": "code",
   "execution_count": 52,
   "metadata": {},
   "outputs": [],
   "source": [
    "# get the stopwoeds of portuguese language\n",
    "\n",
    "stw_pt = stopwords.words(\"portuguese\")"
   ]
  },
  {
   "cell_type": "code",
   "execution_count": 55,
   "metadata": {},
   "outputs": [],
   "source": [
    "# create a function that takes a string, filters only letters, remove stopwords, lemmatize and return the resulting string.\n",
    "\n",
    "def text_cleaner3(strings):\n",
    "\n",
    "  strings = strings.lower()\n",
    "\n",
    "  strings = re.sub('[^a-zA-Z]', ' ', strings)\n",
    "\n",
    "  strings = [i for i in strings.split() if i not in stw_pt]\n",
    "\n",
    "  spc_strings = spc_ob_pt(\" \".join(strings))\n",
    "\n",
    "  word_tokens = [word.lemma_ if word.lemma_ != \"-PRON-\" else word.lower_ for word in spc_strings]\n",
    "  \n",
    "  return \" \".join(word_tokens)\n"
   ]
  },
  {
   "cell_type": "code",
   "execution_count": 56,
   "metadata": {},
   "outputs": [],
   "source": [
    "df1['reviews'] = df1['reviews'].apply(text_cleaner3)"
   ]
  },
  {
   "cell_type": "code",
   "execution_count": 59,
   "metadata": {},
   "outputs": [
    {
     "output_type": "execute_result",
     "data": {
      "text/plain": [
       "                           order_id  \\\n",
       "0  658677c97b385a9be170737859d3511b   \n",
       "1  8e6bfb81e283fa7e4f11123a3fb894f1   \n",
       "2  b9bf720beb4ab3728760088589c62129   \n",
       "3  9d6f15f95d01e79bd1349cc208361f09   \n",
       "4  e51478e7e277a83743b6f9991dbfa3fb   \n",
       "\n",
       "                                             reviews  label  \n",
       "0                  receber bem antar prazo estipular      1  \n",
       "1  parab ns loja lannister adorar comprar interne...      1  \n",
       "2  recomendar aparelhar eficiente site marcar apa...      1  \n",
       "3                    pouco travandopelo valor ta bom      1  \n",
       "4  super recomendar vendedor confi vel produto ok...      1  "
      ],
      "text/html": "<div>\n<style scoped>\n    .dataframe tbody tr th:only-of-type {\n        vertical-align: middle;\n    }\n\n    .dataframe tbody tr th {\n        vertical-align: top;\n    }\n\n    .dataframe thead th {\n        text-align: right;\n    }\n</style>\n<table border=\"1\" class=\"dataframe\">\n  <thead>\n    <tr style=\"text-align: right;\">\n      <th></th>\n      <th>order_id</th>\n      <th>reviews</th>\n      <th>label</th>\n    </tr>\n  </thead>\n  <tbody>\n    <tr>\n      <th>0</th>\n      <td>658677c97b385a9be170737859d3511b</td>\n      <td>receber bem antar prazo estipular</td>\n      <td>1</td>\n    </tr>\n    <tr>\n      <th>1</th>\n      <td>8e6bfb81e283fa7e4f11123a3fb894f1</td>\n      <td>parab ns loja lannister adorar comprar interne...</td>\n      <td>1</td>\n    </tr>\n    <tr>\n      <th>2</th>\n      <td>b9bf720beb4ab3728760088589c62129</td>\n      <td>recomendar aparelhar eficiente site marcar apa...</td>\n      <td>1</td>\n    </tr>\n    <tr>\n      <th>3</th>\n      <td>9d6f15f95d01e79bd1349cc208361f09</td>\n      <td>pouco travandopelo valor ta bom</td>\n      <td>1</td>\n    </tr>\n    <tr>\n      <th>4</th>\n      <td>e51478e7e277a83743b6f9991dbfa3fb</td>\n      <td>super recomendar vendedor confi vel produto ok...</td>\n      <td>1</td>\n    </tr>\n  </tbody>\n</table>\n</div>"
     },
     "metadata": {},
     "execution_count": 59
    }
   ],
   "source": [
    "df1.head()"
   ]
  },
  {
   "cell_type": "code",
   "execution_count": 61,
   "metadata": {},
   "outputs": [
    {
     "output_type": "stream",
     "name": "stdout",
     "text": [
      "<class 'pandas.core.frame.DataFrame'>\nRangeIndex: 38573 entries, 0 to 38572\nData columns (total 3 columns):\n #   Column    Non-Null Count  Dtype \n---  ------    --------------  ----- \n 0   order_id  38573 non-null  object\n 1   reviews   38573 non-null  object\n 2   label     38573 non-null  int64 \ndtypes: int64(1), object(2)\nmemory usage: 904.2+ KB\n"
     ]
    }
   ],
   "source": [
    "df1.info()"
   ]
  },
  {
   "source": [
    "### save the df1 dataframe as nlp_preproccessed_data.xlsx\n"
   ],
   "cell_type": "markdown",
   "metadata": {}
  },
  {
   "cell_type": "code",
   "execution_count": 62,
   "metadata": {},
   "outputs": [],
   "source": [
    "df1.to_excel(\"nlp_preprocessed_data.xlsx\", index=False)"
   ]
  }
 ]
}